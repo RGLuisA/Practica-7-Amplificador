{
 "cells": [
  {
   "cell_type": "markdown",
   "id": "181a9dc2",
   "metadata": {},
   "source": [
    "# Calculos para determinar VBB y RB"
   ]
  },
  {
   "cell_type": "code",
   "execution_count": 1,
   "id": "1dfe60e3",
   "metadata": {},
   "outputs": [
    {
     "name": "stdout",
     "output_type": "stream",
     "text": [
      "El valor de VBB es: 1.3031000000000001 V\n",
      "El valor de RB es: 15837.894736842105 ohmios\n"
     ]
    }
   ],
   "source": [
    "## Valores medidos durante la practica\n",
    "VCC = 10.144  # V\n",
    "VRE = 0.932   # V\n",
    "VR2 = 0.1844  # V\n",
    "VBE = 0.1867  # V\n",
    "IBQ = 0.570e-3  # A\n",
    "\n",
    "## Calculamos VBB\n",
    "VBB = VRE + VR2 + VBE\n",
    "\n",
    "## Calculamos RB\n",
    "RB = (VCC - VRE - VR2) / IBQ\n",
    "\n",
    "print(f\"El valor de VBB es: {VBB} V\")\n",
    "print(f\"El valor de RB es: {RB} ohmios\")\n"
   ]
  },
  {
   "cell_type": "code",
   "execution_count": null,
   "id": "d7e3e069",
   "metadata": {},
   "outputs": [],
   "source": []
  }
 ],
 "metadata": {
  "kernelspec": {
   "display_name": "Python 3 (ipykernel)",
   "language": "python",
   "name": "python3"
  },
  "language_info": {
   "codemirror_mode": {
    "name": "ipython",
    "version": 3
   },
   "file_extension": ".py",
   "mimetype": "text/x-python",
   "name": "python",
   "nbconvert_exporter": "python",
   "pygments_lexer": "ipython3",
   "version": "3.10.9"
  }
 },
 "nbformat": 4,
 "nbformat_minor": 5
}
