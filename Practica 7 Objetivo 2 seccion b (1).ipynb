{
 "cells": [
  {
   "cell_type": "markdown",
   "id": "7a45d79e",
   "metadata": {},
   "source": [
    "# Practica 7 Segundo Objetivo"
   ]
  },
  {
   "cell_type": "markdown",
   "id": "0a0131d7",
   "metadata": {},
   "source": [
    "Para el segundo apartado de dicho objetivo se nos pide determinar el ancho de banda del amplificador, para ello en base a los datos propocionados por el osciloscopio se diseño el siguiente codigo en Python (especificamente en la version Python 3.12.1)."
   ]
  },
  {
   "cell_type": "code",
   "execution_count": 1,
   "id": "23987cc3",
   "metadata": {},
   "outputs": [
    {
     "name": "stdout",
     "output_type": "stream",
     "text": [
      "Ancho de banda del Canal 1: 103212.0 kHz\n",
      "Ancho de banda del Canal 2: 6081.0 kHz\n"
     ]
    }
   ],
   "source": [
    "import numpy as np\n",
    "\n",
    "## Proporcionamos los datos del Canal 1\n",
    "datos_canal_1 = [\n",
    "    [19.1e-3, -30.4e-3, 4.854e3, 323e-6, 58.4e-3], ##Vrms\n",
    "    [13.5e-3, -28.8e-3, 7.054e3, -5.37e-3, 56.8e-3], ## Vmin\n",
    "    [5.41e-3, -11.2e-3, 9.74e3, -1.34e-3, 20.8e-3], ## Frecuencia\n",
    "    [3.39e-3, -12.0e-3, 1.788e3, -553e-6, 23.2e-3], ## Voltaje Promedio\n",
    "    [4.93e-3, -8.80e-3, 105.0e3, -1.20e-3, 16.0e-3] ## Voltaje Pico a Pico\n",
    "]\n",
    "\n",
    "## Hacemos lo mismo con los datos del Canal 2\n",
    "datos_canal_2 = [\n",
    "    [2.14, -3.80, 4.854e3, -86.5e-3, 6.40],\n",
    "    [1.47, -3.80, 6.081e3, 393e-3, 6.40],\n",
    "    [402e-3, -1.20e-3, 0, 28.9e-3, 2.40],\n",
    "    [372e-3, -1.20, 0, 31.2e-3, 2.20],\n",
    "    [302e-3, -800e-3, 0, 31.6e-3, 1.60]\n",
    "]\n",
    "\n",
    "## Creamos nuestra funcion para calculoar el ancho de banda\n",
    "def calcular_ancho_de_banda(datos):\n",
    "    frecuencias = np.array([dato[2] for dato in datos])\n",
    "    return np.max(frecuencias) - np.min(frecuencias)\n",
    "\n",
    "## Asiganmos el valor a las variables\n",
    "\n",
    "ancho_de_banda_canal_1 = calcular_ancho_de_banda(datos_canal_1)\n",
    "ancho_de_banda_canal_2 = calcular_ancho_de_banda(datos_canal_2)\n",
    "\n",
    "## Imprimimos el resultado\n",
    "\n",
    "print(\"Ancho de banda del Canal 1:\", ancho_de_banda_canal_1, \"kHz\")\n",
    "print(\"Ancho de banda del Canal 2:\", ancho_de_banda_canal_2, \"kHz\")\n"
   ]
  },
  {
   "cell_type": "markdown",
   "id": "cee26749",
   "metadata": {},
   "source": [
    "En este caso del amplificador, el ancho de banda se definio como la diferencia entre la frecuencia maxima y la minima en las que el amplificador puede amplificar la señal de manera efectiva.\n",
    "En terminos de lo visto en clase lo anterior dicho se puede interpretar (o mas bien, es) como la diferencia entre la frecuencia de corte superior y la frecuencia de corte inferior."
   ]
  },
  {
   "cell_type": "markdown",
   "id": "0e1dd876",
   "metadata": {},
   "source": [
    "## Disclaimer fuerte con respeto al codigo"
   ]
  },
  {
   "cell_type": "markdown",
   "id": "034edaa9",
   "metadata": {},
   "source": [
    "Dado que la practica era relativamente tardada (y que el horario del laboratorio era muy estricto), se pudieron recabar pocos datos para determinar este valor, por lo que en el mejor caso estos valores podrian considerarse como una aproximacion bastante acertada pero en la realidad necesitariamos muchisimos mas datos para tener con certeza un mejor valor."
   ]
  },
  {
   "cell_type": "markdown",
   "id": "0c2e575a",
   "metadata": {},
   "source": [
    "A su vez tambien debe considerarse que muchos componentes del amplificador (y por ende los valores teoricos) tendran cierta diferencia con respecto de lo esperado.\n",
    "Esto es porque el propio laboratorio no cuenta con muchos componentes con los valores establecidos en la practica (especialmente los condensadores) por lo que como mencionamos esto tambien puede interferir en el calculo."
   ]
  },
  {
   "cell_type": "markdown",
   "id": "9b9143f5",
   "metadata": {},
   "source": [
    "Por ultimo, durante la manipulación del osciloscipio, algunas veces este no era capaz de darnos un valor arrojando en pantalla un signo de interrogación debido al limitado tiempo con el que se contaba para esta practica no pudimos recabar mas datos asi que cuando esta situacion es presentada, en el codigo lo interprete como un 0"
   ]
  },
  {
   "cell_type": "code",
   "execution_count": null,
   "id": "d56eb707",
   "metadata": {},
   "outputs": [],
   "source": []
  }
 ],
 "metadata": {
  "kernelspec": {
   "display_name": "Python 3 (ipykernel)",
   "language": "python",
   "name": "python3"
  },
  "language_info": {
   "codemirror_mode": {
    "name": "ipython",
    "version": 3
   },
   "file_extension": ".py",
   "mimetype": "text/x-python",
   "name": "python",
   "nbconvert_exporter": "python",
   "pygments_lexer": "ipython3",
   "version": "3.10.9"
  }
 },
 "nbformat": 4,
 "nbformat_minor": 5
}
