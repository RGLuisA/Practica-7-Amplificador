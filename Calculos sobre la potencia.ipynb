{
 "cells": [
  {
   "cell_type": "markdown",
   "id": "6d2d5088",
   "metadata": {},
   "source": [
    "# Calculos sobre la potencia "
   ]
  },
  {
   "cell_type": "markdown",
   "id": "91dc0a63",
   "metadata": {},
   "source": [
    "Entonces para calcular este coeficiente  $ \\frac{5 \\text{V}}{20 \\text{mV}}$ , lo  primero que debemos asegurarnos (como en todos los calculos) de que las unidades sean consistentes entre las cantidades que estamos operando. En este caso, tenemos que el voltaje de entrada para cada canal está expresado en voltios (V) y milivoltios (mV). \n",
    "<br>\n",
    "Por tanto siguiendo la lógica antes descrita, para poder dividir estas  dos cantidades entre sí, lo primero que necesitamos hacer es convertir ambos resultados en la misma unidad. Como 1 voltio (V) equivale a 1000 milivoltios (mV), primero convertiremos 5 V a milivoltios, es decir:\n",
    "\n",
    "$$5 \\text{V} = 5 \\times 1000 \\text{mV} = 5000 \\text{mV}$$\n",
    "\n",
    "Con esta cantidad convertida, podemos sustituirla en nuestra división original y poder realizar el cálculo de manera apropiada:\n",
    "\n",
    "$$\\frac{5000 \\text{mV}}{20 \\text{mV}} = 250$$\n",
    "\n",
    "Este es el valor correspondiente a la potencia tomando en cuenta los voltajes de entrada para el canal 1 y el canal 2 que arrojaba el osciloscopio."
   ]
  },
  {
   "cell_type": "code",
   "execution_count": null,
   "id": "eb250966",
   "metadata": {},
   "outputs": [],
   "source": []
  }
 ],
 "metadata": {
  "kernelspec": {
   "display_name": "Python 3 (ipykernel)",
   "language": "python",
   "name": "python3"
  },
  "language_info": {
   "codemirror_mode": {
    "name": "ipython",
    "version": 3
   },
   "file_extension": ".py",
   "mimetype": "text/x-python",
   "name": "python",
   "nbconvert_exporter": "python",
   "pygments_lexer": "ipython3",
   "version": "3.10.9"
  }
 },
 "nbformat": 4,
 "nbformat_minor": 5
}
